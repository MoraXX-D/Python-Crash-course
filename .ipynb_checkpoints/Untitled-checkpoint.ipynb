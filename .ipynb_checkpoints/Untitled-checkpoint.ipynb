{
 "cells": [
  {
   "cell_type": "code",
   "execution_count": 2,
   "id": "f0dfb070-5caa-43e3-8c33-07f833e9fa56",
   "metadata": {},
   "outputs": [
    {
     "name": "stdout",
     "output_type": "stream",
     "text": [
      "[1, 1, 2, 3, 5, 8, 13, 21]\n",
      "{'n': 'int', 'res': 'list', 'return': 'list'}\n"
     ]
    }
   ],
   "source": [
    "# program to print Fibonacci series using function annotations  \n",
    "def fibonacci(n:'int', res:'list'=[])-> 'list':  \n",
    "    if n == 0:  \n",
    "        return res  \n",
    "    else:  \n",
    "        if len(res)< 2:  \n",
    "            res.append(1)  \n",
    "            fibonacci(n-1, res)  \n",
    "        else:  \n",
    "            last = res[-1]  \n",
    "            second_last = res[-2]  \n",
    "            res.append(last + second_last)  \n",
    "            fibonacci(n-1, res)  \n",
    "        return res  \n",
    "print(fibonacci(8))  \n",
    "print(fibonacci.__annotations__) "
   ]
  },
  {
   "cell_type": "code",
   "execution_count": 3,
   "id": "717be071-25aa-4a9e-b43a-d40ddbee0955",
   "metadata": {},
   "outputs": [
    {
     "ename": "SyntaxError",
     "evalue": "invalid syntax (2268859186.py, line 1)",
     "output_type": "error",
     "traceback": [
      "\u001b[1;36m  Cell \u001b[1;32mIn[3], line 1\u001b[1;36m\u001b[0m\n\u001b[1;33m    lamda result:result(in range[1,5])\u001b[0m\n\u001b[1;37m          ^\u001b[0m\n\u001b[1;31mSyntaxError\u001b[0m\u001b[1;31m:\u001b[0m invalid syntax\n"
     ]
    }
   ],
   "source": [
    "lamda result x,y:range(x,y)\n",
    "result\n"
   ]
  },
  {
   "cell_type": "code",
   "execution_count": 2,
   "id": "3274a82e-f36f-4a7d-b43a-31ef9c12f449",
   "metadata": {},
   "outputs": [
    {
     "name": "stdout",
     "output_type": "stream",
     "text": [
      "1 2 3 4 5 6 7 8\n"
     ]
    }
   ],
   "source": [
    "print(*(i for i in range(1, 9)))\n"
   ]
  },
  {
   "cell_type": "code",
   "execution_count": 3,
   "id": "1e61a187",
   "metadata": {},
   "outputs": [
    {
     "name": "stdout",
     "output_type": "stream",
     "text": [
      "[1, 2, 3, 4, 5, 6, 7, 8]\n"
     ]
    }
   ],
   "source": [
    "print(list(i for i in range(1, 9)))\n",
    "\n"
   ]
  },
  {
   "cell_type": "code",
   "execution_count": 11,
   "id": "c5794482",
   "metadata": {},
   "outputs": [
    {
     "name": "stdout",
     "output_type": "stream",
     "text": [
      "1 2 3 4 5\n",
      "[5, 4, 3, 2, 1]\n"
     ]
    }
   ],
   "source": [
    "a = [1,2,3,4,5]\n",
    "print(*(i for i in a))\n",
    "print(a[::-1])"
   ]
  },
  {
   "cell_type": "code",
   "execution_count": 10,
   "id": "830dfcd8",
   "metadata": {},
   "outputs": [
    {
     "ename": "TypeError",
     "evalue": "'tuple' object does not support item assignment",
     "output_type": "error",
     "traceback": [
      "\u001b[1;31m---------------------------------------------------------------------------\u001b[0m",
      "\u001b[1;31mTypeError\u001b[0m                                 Traceback (most recent call last)",
      "Cell \u001b[1;32mIn[10], line 2\u001b[0m\n\u001b[0;32m      1\u001b[0m b \u001b[38;5;241m=\u001b[39m (\u001b[38;5;241m1\u001b[39m,\u001b[38;5;241m2\u001b[39m,\u001b[38;5;241m3\u001b[39m,\u001b[38;5;241m4\u001b[39m,\u001b[38;5;241m5\u001b[39m)\n\u001b[1;32m----> 2\u001b[0m \u001b[43mb\u001b[49m\u001b[43m[\u001b[49m\u001b[38;5;241;43m0\u001b[39;49m\u001b[43m]\u001b[49m\u001b[38;5;241m=\u001b[39m\u001b[38;5;241m0\u001b[39m\n",
      "\u001b[1;31mTypeError\u001b[0m: 'tuple' object does not support item assignment"
     ]
    }
   ],
   "source": [
    "b = (1,2,3,4,5)\n",
    "b[0]=0"
   ]
  },
  {
   "cell_type": "code",
   "execution_count": 12,
   "id": "a9ec2c4c",
   "metadata": {},
   "outputs": [
    {
     "name": "stdout",
     "output_type": "stream",
     "text": [
      "1414.213562373095\n"
     ]
    }
   ],
   "source": [
    "import math\n",
    "print(math.sqrt(2000000))"
   ]
  },
  {
   "cell_type": "code",
   "execution_count": 13,
   "id": "1b6ee916",
   "metadata": {},
   "outputs": [
    {
     "name": "stdout",
     "output_type": "stream",
     "text": [
      "142913828922\n"
     ]
    }
   ],
   "source": [
    "def sum_of_primes(limit):\n",
    "    sieve = [True] * limit\n",
    "    sieve[0] = sieve[1] = False  # 0 and 1 are not prime numbers\n",
    "\n",
    "    for start in range(2, int(limit**0.5) + 1):\n",
    "        if sieve[start]:\n",
    "            for multiple in range(start*start, limit, start):\n",
    "                sieve[multiple] = False\n",
    "\n",
    "    return sum(index for index, is_prime in enumerate(sieve) if is_prime)\n",
    "\n",
    "limit = 2000000\n",
    "print(sum_of_primes(limit))\n"
   ]
  },
  {
   "cell_type": "code",
   "execution_count": 16,
   "id": "46040484",
   "metadata": {},
   "outputs": [
    {
     "name": "stdout",
     "output_type": "stream",
     "text": [
      "0 apple\n",
      "1 banana\n",
      "2 cherry\n"
     ]
    }
   ],
   "source": [
    "# A list of items\n",
    "items = ['apple', 'banana', 'cherry']\n",
    "\n",
    "# Using enumerate to add a counter to the list\n",
    "for index, item in enumerate(items):\n",
    "    print(index, item)\n"
   ]
  },
  {
   "cell_type": "code",
   "execution_count": 17,
   "id": "e6e1b247",
   "metadata": {},
   "outputs": [
    {
     "name": "stdout",
     "output_type": "stream",
     "text": [
      "4613732\n"
     ]
    }
   ],
   "source": [
    "def sum_even_fibonacci(limit, a=1, b=2):\n",
    "    if a > limit:\n",
    "        return 0\n",
    "    elif a % 2 == 0:\n",
    "        return a + sum_even_fibonacci(limit, b, a + b)\n",
    "    else:\n",
    "        return sum_even_fibonacci(limit, b, a + b)\n",
    "\n",
    "limit = 4000000\n",
    "print(sum_even_fibonacci(limit))\n"
   ]
  },
  {
   "cell_type": "code",
   "execution_count": 18,
   "id": "5e4eba90",
   "metadata": {},
   "outputs": [
    {
     "name": "stdout",
     "output_type": "stream",
     "text": [
      "{'h': 1, 'e': 1, 'l': 3, 'o': 2, ' ': 1, 'w': 1, 'r': 1, 'd': 1}\n"
     ]
    }
   ],
   "source": [
    "def count_characters(s):\n",
    "    char_count = {}\n",
    "    for char in s:\n",
    "        if char in char_count:\n",
    "            char_count[char] += 1\n",
    "        else:\n",
    "            char_count[char] = 1\n",
    "    return char_count\n",
    "\n",
    "# Example usage\n",
    "input_string = \"hello world\"\n",
    "char_count_dict = count_characters(input_string)\n",
    "print(char_count_dict)"
   ]
  },
  {
   "cell_type": "code",
   "execution_count": 19,
   "id": "a31ac72a",
   "metadata": {},
   "outputs": [
    {
     "name": "stdout",
     "output_type": "stream",
     "text": [
      "{'h': 1, 'e': 1, 'l': 3, 'o': 2, ' ': 1, 'w': 1, 'r': 1, 'd': 1}\n"
     ]
    }
   ],
   "source": [
    "str = \"hello world\"\n",
    "f = {}\n",
    "for i in str:\n",
    "    if i in f:\n",
    "        f[i] += 1\n",
    "    else: \n",
    "        f[i] = 1\n",
    "print(f)"
   ]
  },
  {
   "cell_type": "code",
   "execution_count": 20,
   "id": "e321dadf",
   "metadata": {},
   "outputs": [
    {
     "name": "stdout",
     "output_type": "stream",
     "text": [
      "Parsed birthday: {'day': '25', 'month': '12', 'year': '1990'}\n",
      "Formatted birthday: 25-12-1990\n"
     ]
    }
   ],
   "source": [
    "def parse_birthday(birthday_string):\n",
    "    # Split the birthday string into parts\n",
    "    parts = birthday_string.split('-')\n",
    "\n",
    "    # Create a dictionary to store the parsed birthday\n",
    "    birthday_dict = {\n",
    "        'day': parts[0],\n",
    "        'month': parts[1],\n",
    "        'year': parts[2]\n",
    "    }\n",
    "\n",
    "    return birthday_dict\n",
    "\n",
    "def format_birthday(birthday_dict):\n",
    "    # Join the parts of the birthday dictionary into a single string\n",
    "    birthday_string = '-'.join([birthday_dict['day'], birthday_dict['month'], birthday_dict['year']])\n",
    "    return birthday_string\n",
    "\n",
    "# Example usage\n",
    "birthday_string = \"25-12-1990\"\n",
    "parsed_birthday = parse_birthday(birthday_string)\n",
    "print(\"Parsed birthday:\", parsed_birthday)\n",
    "\n",
    "formatted_birthday = format_birthday(parsed_birthday)\n",
    "print(\"Formatted birthday:\", formatted_birthday)\n"
   ]
  },
  {
   "cell_type": "code",
   "execution_count": null,
   "id": "189e2733",
   "metadata": {},
   "outputs": [],
   "source": []
  }
 ],
 "metadata": {
  "kernelspec": {
   "display_name": "Python 3 (ipykernel)",
   "language": "python",
   "name": "python3"
  },
  "language_info": {
   "codemirror_mode": {
    "name": "ipython",
    "version": 3
   },
   "file_extension": ".py",
   "mimetype": "text/x-python",
   "name": "python",
   "nbconvert_exporter": "python",
   "pygments_lexer": "ipython3",
   "version": "3.11.3"
  }
 },
 "nbformat": 4,
 "nbformat_minor": 5
}
