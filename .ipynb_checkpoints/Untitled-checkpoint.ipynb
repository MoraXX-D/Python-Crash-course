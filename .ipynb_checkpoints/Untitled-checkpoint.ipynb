{
 "cells": [
  {
   "cell_type": "code",
   "execution_count": 2,
   "id": "f0dfb070-5caa-43e3-8c33-07f833e9fa56",
   "metadata": {},
   "outputs": [
    {
     "name": "stdout",
     "output_type": "stream",
     "text": [
      "[1, 1, 2, 3, 5, 8, 13, 21]\n",
      "{'n': 'int', 'res': 'list', 'return': 'list'}\n"
     ]
    }
   ],
   "source": [
    "# program to print Fibonacci series using function annotations  \n",
    "def fibonacci(n:'int', res:'list'=[])-> 'list':  \n",
    "    if n == 0:  \n",
    "        return res  \n",
    "    else:  \n",
    "        if len(res)< 2:  \n",
    "            res.append(1)  \n",
    "            fibonacci(n-1, res)  \n",
    "        else:  \n",
    "            last = res[-1]  \n",
    "            second_last = res[-2]  \n",
    "            res.append(last + second_last)  \n",
    "            fibonacci(n-1, res)  \n",
    "        return res  \n",
    "print(fibonacci(8))  \n",
    "print(fibonacci.__annotations__) "
   ]
  },
  {
   "cell_type": "code",
   "execution_count": 3,
   "id": "717be071-25aa-4a9e-b43a-d40ddbee0955",
   "metadata": {},
   "outputs": [
    {
     "ename": "SyntaxError",
     "evalue": "invalid syntax (2268859186.py, line 1)",
     "output_type": "error",
     "traceback": [
      "\u001b[1;36m  Cell \u001b[1;32mIn[3], line 1\u001b[1;36m\u001b[0m\n\u001b[1;33m    lamda result:result(in range[1,5])\u001b[0m\n\u001b[1;37m          ^\u001b[0m\n\u001b[1;31mSyntaxError\u001b[0m\u001b[1;31m:\u001b[0m invalid syntax\n"
     ]
    }
   ],
   "source": [
    "lamda result x,y:range(x,y)\n",
    "result\n"
   ]
  },
  {
   "cell_type": "code",
   "execution_count": null,
   "id": "3274a82e-f36f-4a7d-b43a-31ef9c12f449",
   "metadata": {},
   "outputs": [],
   "source": []
  }
 ],
 "metadata": {
  "kernelspec": {
   "display_name": "Python 3 (ipykernel)",
   "language": "python",
   "name": "python3"
  },
  "language_info": {
   "codemirror_mode": {
    "name": "ipython",
    "version": 3
   },
   "file_extension": ".py",
   "mimetype": "text/x-python",
   "name": "python",
   "nbconvert_exporter": "python",
   "pygments_lexer": "ipython3",
   "version": "3.11.3"
  }
 },
 "nbformat": 4,
 "nbformat_minor": 5
}
