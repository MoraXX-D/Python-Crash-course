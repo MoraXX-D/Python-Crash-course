{
 "cells": [
  {
   "cell_type": "code",
   "execution_count": 2,
   "id": "f0dfb070-5caa-43e3-8c33-07f833e9fa56",
   "metadata": {},
   "outputs": [
    {
     "name": "stdout",
     "output_type": "stream",
     "text": [
      "[1, 1, 2, 3, 5, 8, 13, 21]\n",
      "{'n': 'int', 'res': 'list', 'return': 'list'}\n"
     ]
    }
   ],
   "source": [
    "# program to print Fibonacci series using function annotations  \n",
    "def fibonacci(n:'int', res:'list'=[])-> 'list':  \n",
    "    if n == 0:  \n",
    "        return res  \n",
    "    else:  \n",
    "        if len(res)< 2:  \n",
    "            res.append(1)  \n",
    "            fibonacci(n-1, res)  \n",
    "        else:  \n",
    "            last = res[-1]  \n",
    "            second_last = res[-2]  \n",
    "            res.append(last + second_last)  \n",
    "            fibonacci(n-1, res)  \n",
    "        return res  \n",
    "print(fibonacci(8))  \n",
    "print(fibonacci.__annotations__) "
   ]
  },
  {
   "cell_type": "code",
   "execution_count": 4,
   "id": "717be071-25aa-4a9e-b43a-d40ddbee0955",
   "metadata": {},
   "outputs": [
    {
     "ename": "SyntaxError",
     "evalue": "invalid syntax (1263469189.py, line 1)",
     "output_type": "error",
     "traceback": [
      "\u001b[1;36m  Cell \u001b[1;32mIn[4], line 1\u001b[1;36m\u001b[0m\n\u001b[1;33m    lamda result x,y:range(x,y)\u001b[0m\n\u001b[1;37m          ^\u001b[0m\n\u001b[1;31mSyntaxError\u001b[0m\u001b[1;31m:\u001b[0m invalid syntax\n"
     ]
    }
   ],
   "source": [
    "lamda result x,y:range(x,y)\n",
    "result\n"
   ]
  },
  {
   "cell_type": "code",
   "execution_count": 1,
   "id": "3274a82e-f36f-4a7d-b43a-31ef9c12f449",
   "metadata": {},
   "outputs": [
    {
     "name": "stdout",
     "output_type": "stream",
     "text": [
      "('cheese', 'pizza sauce', 'letteuce', 'tomato')\n"
     ]
    }
   ],
   "source": [
    "\n",
    "def Sandwiches(*items):\n",
    "    print(items);\n",
    "\n",
    "Sandwiches('cheese','pizza sauce','letteuce','tomato')"
   ]
  },
  {
   "cell_type": "code",
   "execution_count": 2,
   "id": "b9dd96b6",
   "metadata": {},
   "outputs": [
    {
     "name": "stdout",
     "output_type": "stream",
     "text": [
      "('egg', 'bacon')\n"
     ]
    }
   ],
   "source": [
    "Sandwiches('egg','bacon')"
   ]
  },
  {
   "cell_type": "code",
   "execution_count": 3,
   "id": "aa9707b2",
   "metadata": {},
   "outputs": [
    {
     "data": {
      "text/plain": [
       "{'first_name': 'shubham',\n",
       " 'last_name': 'kumar',\n",
       " 'location': 'jaipur',\n",
       " 'Course': 'B-tech',\n",
       " 'Branch': 'Ai & Ds'}"
      ]
     },
     "execution_count": 3,
     "metadata": {},
     "output_type": "execute_result"
    }
   ],
   "source": [
    "def build_profile(first_name,last_name,**others):\n",
    "    '''building a dictionary containing info about user'''\n",
    "    profile={}\n",
    "    profile['first_name'] = first_name\n",
    "    profile['last_name'] = last_name\n",
    "\n",
    "    for keys, values in others.items():\n",
    "        profile[keys] = values\n",
    "    \n",
    "    return profile\n",
    "build_profile('shubham','kumar',location = 'jaipur',Course = 'B-tech', Branch = 'Ai & Ds')\n"
   ]
  },
  {
   "cell_type": "code",
   "execution_count": null,
   "id": "082a6c2c",
   "metadata": {},
   "outputs": [],
   "source": [
    "import pizza\n",
    "pizza.make_pizza(16,'pepperoni','mushroom','mozerrela')\n"
   ]
  }
 ],
 "metadata": {
  "kernelspec": {
   "display_name": "Python 3 (ipykernel)",
   "language": "python",
   "name": "python3"
  },
  "language_info": {
   "codemirror_mode": {
    "name": "ipython",
    "version": 3
   },
   "file_extension": ".py",
   "mimetype": "text/x-python",
   "name": "python",
   "nbconvert_exporter": "python",
   "pygments_lexer": "ipython3",
   "version": "3.11.3"
  }
 },
 "nbformat": 4,
 "nbformat_minor": 5
}
