{
 "cells": [
  {
   "cell_type": "code",
   "execution_count": 2,
   "id": "f0dfb070-5caa-43e3-8c33-07f833e9fa56",
   "metadata": {},
   "outputs": [
    {
     "name": "stdout",
     "output_type": "stream",
     "text": [
      "[1, 1, 2, 3, 5, 8, 13, 21]\n",
      "{'n': 'int', 'res': 'list', 'return': 'list'}\n"
     ]
    }
   ],
   "source": [
    "# program to print Fibonacci series using function annotations  \n",
    "def fibonacci(n:'int', res:'list'=[])-> 'list':  \n",
    "    if n == 0:  \n",
    "        return res  \n",
    "    else:  \n",
    "        if len(res)< 2:  \n",
    "            res.append(1)  \n",
    "            fibonacci(n-1, res)  \n",
    "        else:  \n",
    "            last = res[-1]  \n",
    "            second_last = res[-2]  \n",
    "            res.append(last + second_last)  \n",
    "            fibonacci(n-1, res)  \n",
    "        return res  \n",
    "print(fibonacci(8))  \n",
    "print(fibonacci.__annotations__) "
   ]
  },
  {
   "cell_type": "code",
   "execution_count": 4,
   "id": "717be071-25aa-4a9e-b43a-d40ddbee0955",
   "metadata": {},
   "outputs": [
    {
     "ename": "SyntaxError",
     "evalue": "invalid syntax (1263469189.py, line 1)",
     "output_type": "error",
     "traceback": [
      "\u001b[1;36m  Cell \u001b[1;32mIn[4], line 1\u001b[1;36m\u001b[0m\n\u001b[1;33m    lamda result x,y:range(x,y)\u001b[0m\n\u001b[1;37m          ^\u001b[0m\n\u001b[1;31mSyntaxError\u001b[0m\u001b[1;31m:\u001b[0m invalid syntax\n"
     ]
    }
   ],
   "source": [
    "lamda result x,y:range(x,y)\n",
    "result\n"
   ]
  },
  {
   "cell_type": "code",
   "execution_count": 1,
   "id": "3274a82e-f36f-4a7d-b43a-31ef9c12f449",
   "metadata": {},
   "outputs": [
    {
     "name": "stdout",
     "output_type": "stream",
     "text": [
      "('cheese', 'pizza sauce', 'letteuce', 'tomato')\n"
     ]
    }
   ],
   "source": [
    "\n",
    "def Sandwiches(*items):\n",
    "    print(items);\n",
    "\n",
    "Sandwiches('cheese','pizza sauce','letteuce','tomato')"
   ]
  },
  {
   "cell_type": "code",
   "execution_count": 2,
   "id": "b9dd96b6",
   "metadata": {},
   "outputs": [
    {
     "name": "stdout",
     "output_type": "stream",
     "text": [
      "('egg', 'bacon')\n"
     ]
    }
   ],
   "source": [
    "Sandwiches('egg','bacon')"
   ]
  },
  {
   "cell_type": "code",
   "execution_count": 3,
   "id": "aa9707b2",
   "metadata": {},
   "outputs": [
    {
     "data": {
      "text/plain": [
       "{'first_name': 'shubham',\n",
       " 'last_name': 'kumar',\n",
       " 'location': 'jaipur',\n",
       " 'Course': 'B-tech',\n",
       " 'Branch': 'Ai & Ds'}"
      ]
     },
     "execution_count": 3,
     "metadata": {},
     "output_type": "execute_result"
    }
   ],
   "source": [
    "def build_profile(first_name,last_name,**others):\n",
    "    '''building a dictionary containing info about user'''\n",
    "    profile={}\n",
    "    profile['first_name'] = first_name\n",
    "    profile['last_name'] = last_name\n",
    "\n",
    "    for keys, values in others.items():\n",
    "        profile[keys] = values\n",
    "    \n",
    "    return profile\n",
    "build_profile('shubham','kumar',location = 'jaipur',Course = 'B-tech', Branch = 'Ai & Ds')\n"
   ]
  },
  {
   "cell_type": "code",
   "execution_count": 4,
   "id": "082a6c2c",
   "metadata": {},
   "outputs": [
    {
     "name": "stdout",
     "output_type": "stream",
     "text": [
      "\n",
      "Making a 16inch pizza with the following toppings\n",
      "-pepperoni\n",
      "-mushroom\n",
      "-mozerrela\n"
     ]
    }
   ],
   "source": [
    "import pizza\n",
    "pizza.make_pizza(16,'pepperoni','mushroom','mozerrela')\n"
   ]
  },
  {
   "cell_type": "code",
   "execution_count": 5,
   "id": "660d98de",
   "metadata": {},
   "outputs": [],
   "source": [
    "class Dogs():\n",
    "    '''A simple attempt to model a dog'''\n",
    "    def __init__(self,name:str,age:int) -> None:\n",
    "        self.name = name\n",
    "        self.age = age\n",
    "\n",
    "    def sit(self):\n",
    "\n",
    "        '''simulate dog sitting in response to a command'''\n",
    "        print(self.name.title() + 'is sitting')\n",
    "\n",
    "    def roll_over(self):\n",
    "        '''simulate rolling over a command'''\n",
    "        print(self.name.title() + \"rolled over\")\n",
    "    "
   ]
  },
  {
   "cell_type": "code",
   "execution_count": 7,
   "id": "7e41ccca",
   "metadata": {},
   "outputs": [
    {
     "name": "stdout",
     "output_type": "stream",
     "text": [
      "my dog name is Willie\n",
      "my dog age is 6yrs old\n"
     ]
    }
   ],
   "source": [
    "my_dog = Dogs('willie',6)\n",
    "print('my dog name is ' + my_dog.name.title())\n",
    "print('my dog age is ' + str(my_dog.age) + 'yrs old')\n"
   ]
  },
  {
   "cell_type": "code",
   "execution_count": 8,
   "id": "956c384b",
   "metadata": {},
   "outputs": [
    {
     "name": "stdout",
     "output_type": "stream",
     "text": [
      "Willieis sitting\n",
      "Willierolled over\n"
     ]
    }
   ],
   "source": [
    "my_dog.sit()\n",
    "my_dog.roll_over()"
   ]
  },
  {
   "cell_type": "code",
   "execution_count": 20,
   "id": "bc4701ee",
   "metadata": {},
   "outputs": [
    {
     "name": "stdout",
     "output_type": "stream",
     "text": [
      "2016 Audi A4\n",
      "This car has 0 mileage on it\n"
     ]
    }
   ],
   "source": [
    "class Car():\n",
    "    def __init__(self,make,model,year) -> None:\n",
    "        '''initialize attribute to describe a car'''\n",
    "        self.make = make\n",
    "        self.model = model\n",
    "        self.year = year\n",
    "        self.ododmeter_reading = 0\n",
    "\n",
    "    def get_description_name(self):\n",
    "        '''return a nearly formatted descriptive name'''\n",
    "        long_name = str(self.year) + ' ' + self.make + ' ' + self.model\n",
    "        return long_name.title()\n",
    "    \n",
    "    def read_odometer(self):\n",
    "        '''print a message shoing car mileage'''\n",
    "        print(\"This car has \" + str(self.ododmeter_reading) + \" mileage on it\")\n",
    "\n",
    "    def update_odometer_reading(self,mileage):\n",
    "        '''this function update odometer reading using a method and preventing roll back'''\n",
    "        if mileage > self.ododmeter_reading:\n",
    "            self.ododmeter_reading = mileage\n",
    "        else:\n",
    "            print(\"You cannot roll back the reading.\")\n",
    "    \n",
    "my_new_car = Car('audi','a4',2016)\n",
    "print(my_new_car.get_description_name())\n",
    "my_new_car.read_odometer()"
   ]
  },
  {
   "cell_type": "code",
   "execution_count": 17,
   "id": "03b93871",
   "metadata": {},
   "outputs": [
    {
     "name": "stdout",
     "output_type": "stream",
     "text": [
      "This car has 23 mileage on it\n"
     ]
    }
   ],
   "source": [
    "my_new_car.ododmeter_reading = 23\n",
    "my_new_car.read_odometer()"
   ]
  },
  {
   "cell_type": "code",
   "execution_count": 22,
   "id": "55e1ad88",
   "metadata": {},
   "outputs": [
    {
     "name": "stdout",
     "output_type": "stream",
     "text": [
      "You cannot roll back the reading.\n",
      "This car has 45 mileage on it\n"
     ]
    }
   ],
   "source": [
    "my_new_car.update_odometer_reading(5)\n",
    "my_new_car.read_odometer()"
   ]
  },
  {
   "cell_type": "code",
   "execution_count": 21,
   "id": "f9d0e0c0",
   "metadata": {},
   "outputs": [
    {
     "name": "stdout",
     "output_type": "stream",
     "text": [
      "2016 Audi A4\n",
      "This car has 0 mileage on it\n",
      "This car need gasoline to run\n",
      "2016 Tesla Model S\n",
      "This car has a 70-kwh battery\n",
      "70\n",
      "It is an electic car hence it doesn't need gas\n",
      "This car can fit 4 no of people\n",
      "This car has a trunk capacity of 20 ltr\n"
     ]
    }
   ],
   "source": [
    "class Car():\n",
    "    def __init__(self,make,model,year) -> None:\n",
    "        '''initialize attribute to describe a car'''\n",
    "        self.make = make\n",
    "        self.model = model\n",
    "        self.year = year\n",
    "        self.ododmeter_reading = 0\n",
    "\n",
    "    def get_description_name(self):\n",
    "        '''return a nearly formatted descriptive name'''\n",
    "        long_name = str(self.year) + ' ' + self.make + ' ' + self.model\n",
    "        return long_name.title()\n",
    "    \n",
    "    def read_odometer(self):\n",
    "        '''print a message shoing car mileage'''\n",
    "        print(\"This car has \" + str(self.ododmeter_reading) + \" mileage on it\")\n",
    "\n",
    "    def update_odometer_reading(self,mileage):\n",
    "        '''this function update odometer reading using a method and preventing roll back'''\n",
    "        if mileage > self.ododmeter_reading:\n",
    "            self.ododmeter_reading = mileage\n",
    "        else:\n",
    "            print(\"You cannot roll back the reading.\")\n",
    "\n",
    "    def fill_gas_tank(self):\n",
    "        '''This method show that it need gas or not'''\n",
    "        print(\"This car need gasoline to run\")\n",
    "\n",
    "class Capacity():\n",
    "    def __init__(self):\n",
    "        self.capacity = 4\n",
    "        self.trunk_capacity = 20\n",
    "\n",
    "    def no_of_people(self):\n",
    "        '''creating new class to show car capacity as doing so in the same class\n",
    "        can make it unreadable'''\n",
    "        print(\"This car can fit \" + str(self.capacity) + \" no of people\")\n",
    "\n",
    "    def trunk(self):\n",
    "        '''trunk capacity of the car'''\n",
    "        print('This car has a trunk capacity of ' + str(self.trunk_capacity) + ' ltr')\n",
    "\n",
    "class ElectricCar(Car):\n",
    "    '''represent aspect of car, specific to EVs'''\n",
    "   \n",
    "    def __init__(self,make,model,year):\n",
    "        super().__init__(make,model,year)\n",
    "        self.battery_size = 70\n",
    "        self.capacity = Capacity()\n",
    "\n",
    "    def describe_battery(self):\n",
    "        '''describing battery'''\n",
    "        print(\"This car has a \" + str(self.battery_size) + \"-kwh battery\")\n",
    "\n",
    "    def fill_gas_tank(self):\n",
    "        '''Overridding the parent class method'''\n",
    "        print(\"It is an electic car hence it doesn't need gas\")\n",
    "    \n",
    "my_new_car = Car('audi','a4',2016)\n",
    "print(my_new_car.get_description_name())\n",
    "my_new_car.read_odometer()\n",
    "my_new_car.fill_gas_tank()\n",
    "my_tesla = ElectricCar('Tesla', 'Model S', 2016)\n",
    "print(my_tesla.get_description_name())\n",
    "my_tesla.describe_battery()\n",
    "print(my_tesla.battery_size)\n",
    "my_tesla.fill_gas_tank()\n",
    "my_tesla.capacity.no_of_people()\n",
    "my_tesla.capacity.trunk()"
   ]
  },
  {
   "cell_type": "code",
   "execution_count": 13,
   "id": "12b75159",
   "metadata": {},
   "outputs": [
    {
     "name": "stdout",
     "output_type": "stream",
     "text": [
      "<class '__main__.ElectricCar'>\n",
      "None\n"
     ]
    }
   ],
   "source": [
    "print(type(my_tesla))\n",
    "print(my_tesla.capacity.no_of_people())"
   ]
  },
  {
   "cell_type": "code",
   "execution_count": null,
   "id": "71d92df0",
   "metadata": {},
   "outputs": [],
   "source": []
  },
  {
   "cell_type": "code",
   "execution_count": 23,
   "id": "76ce3a8f",
   "metadata": {},
   "outputs": [
    {
     "ename": "ImportError",
     "evalue": "cannot import name 'np' from 'numpy' (c:\\Users\\shubh\\AppData\\Local\\Programs\\Python\\Python311\\Lib\\site-packages\\numpy\\__init__.py)",
     "output_type": "error",
     "traceback": [
      "\u001b[1;31m---------------------------------------------------------------------------\u001b[0m",
      "\u001b[1;31mImportError\u001b[0m                               Traceback (most recent call last)",
      "Cell \u001b[1;32mIn[23], line 1\u001b[0m\n\u001b[1;32m----> 1\u001b[0m \u001b[38;5;28;01mfrom\u001b[39;00m \u001b[38;5;21;01mnumpy\u001b[39;00m \u001b[38;5;28;01mimport\u001b[39;00m np\n\u001b[0;32m      2\u001b[0m intarr \u001b[38;5;241m=\u001b[39m np\u001b[38;5;241m.\u001b[39marray([\u001b[38;5;241m1\u001b[39m,\u001b[38;5;241m2\u001b[39m,\u001b[38;5;241m3\u001b[39m,\u001b[38;5;241m4\u001b[39m,\u001b[38;5;241m5\u001b[39m])\n\u001b[0;32m      4\u001b[0m \u001b[38;5;28mprint\u001b[39m(intarr)\n",
      "\u001b[1;31mImportError\u001b[0m: cannot import name 'np' from 'numpy' (c:\\Users\\shubh\\AppData\\Local\\Programs\\Python\\Python311\\Lib\\site-packages\\numpy\\__init__.py)"
     ]
    }
   ],
   "source": [
    "from numpy import np\n",
    "intarr = np.array([1,2,3,4,5])\n",
    "\n",
    "print(intarr)"
   ]
  },
  {
   "cell_type": "code",
   "execution_count": 24,
   "id": "3fb2ef7c",
   "metadata": {},
   "outputs": [
    {
     "name": "stdout",
     "output_type": "stream",
     "text": [
      "3.1415926535 \n",
      " 8979323846 \n",
      " 2643383279\n"
     ]
    }
   ],
   "source": [
    "with open('pi_digit.txt') as file_object:\n",
    "    content =file_object.read()\n",
    "    print(content)"
   ]
  },
  {
   "cell_type": "code",
   "execution_count": 27,
   "id": "ee44983d",
   "metadata": {},
   "outputs": [
    {
     "name": "stdout",
     "output_type": "stream",
     "text": [
      "3.1415926535\n",
      " 8979323846\n",
      " 2643383279\n"
     ]
    }
   ],
   "source": [
    "file_name = 'pi_digits.txt'\n",
    "\n",
    "with open('pi_digit.txt') as file_object:\n",
    "    for line in file_object:\n",
    "        print(line.rstrip())"
   ]
  },
  {
   "cell_type": "code",
   "execution_count": 28,
   "id": "3499128b",
   "metadata": {},
   "outputs": [
    {
     "name": "stdout",
     "output_type": "stream",
     "text": [
      "3.1415926535\n",
      " 8979323846\n",
      " 2643383279\n"
     ]
    }
   ],
   "source": [
    "file_name = 'pi_digit.txt'\n",
    "with open('pi_digit.txt') as file_object:\n",
    "    lines = file_object.readlines()\n",
    "\n",
    "for line in lines:\n",
    "    print(line.rstrip())"
   ]
  },
  {
   "cell_type": "code",
   "execution_count": 29,
   "id": "94bffd3d",
   "metadata": {},
   "outputs": [
    {
     "data": {
      "text/plain": [
       "list"
      ]
     },
     "execution_count": 29,
     "metadata": {},
     "output_type": "execute_result"
    }
   ],
   "source": [
    "type(lines)"
   ]
  },
  {
   "cell_type": "code",
   "execution_count": 30,
   "id": "255c0be9",
   "metadata": {},
   "outputs": [
    {
     "name": "stdout",
     "output_type": "stream",
     "text": [
      "3.141592653589793238462643383279\n",
      "32\n"
     ]
    }
   ],
   "source": [
    "file_name = 'pi_digit.txt'\n",
    "with open('pi_digit.txt') as file_object:\n",
    "    lines = file_object.readlines()\n",
    "\n",
    "pi_string =''\n",
    "\n",
    "for line in lines:\n",
    "    pi_string += line.strip()\n",
    "\n",
    "print(pi_string)\n",
    "print(len(pi_string))\n"
   ]
  },
  {
   "cell_type": "code",
   "execution_count": 36,
   "id": "e1fd181d",
   "metadata": {},
   "outputs": [
    {
     "name": "stdout",
     "output_type": "stream",
     "text": [
      "3.14159265358979323846264338327950288419716939937510...\n",
      "1002\n",
      "Your birthday appears in the first million digits of pi!\n"
     ]
    }
   ],
   "source": [
    "file_name = 'thousand_digit_of_pi.txt'\n",
    "\n",
    "with open('thousand_digit_of_pi.txt') as file_object:\n",
    "    lines = file_object.readlines()\n",
    "    pi_string = ''\n",
    "    \n",
    "    for line in lines:\n",
    "        pi_string += line.strip()\n",
    "\n",
    "    print(pi_string[:52] + '...')\n",
    "    print(len(pi_string))\n",
    "\n",
    "    birthday = input(\"Enter your birthday, in the form mmddyy: \")\n",
    "    if birthday in pi_string:\n",
    "        print(\"Your birthday appears in the first million digits of pi!\")\n",
    "    else:\n",
    "        print(\"Your birthday does not appear in the first million digits of pi.\")\n",
    "    \n"
   ]
  },
  {
   "cell_type": "code",
   "execution_count": 39,
   "id": "5307cf6b",
   "metadata": {},
   "outputs": [],
   "source": [
    "with open('writing.txt','w') as file_object:\n",
    "    file_object.write(\"I love programing in python.\")"
   ]
  },
  {
   "cell_type": "code",
   "execution_count": 40,
   "id": "e476278e",
   "metadata": {},
   "outputs": [],
   "source": [
    "with open('writing.txt','a') as file_object:\n",
    "    file_object.write(\"\\nI love devloping websites\")"
   ]
  },
  {
   "cell_type": "code",
   "execution_count": 1,
   "id": "9d6cfa01",
   "metadata": {},
   "outputs": [
    {
     "ename": "ZeroDivisionError",
     "evalue": "division by zero",
     "output_type": "error",
     "traceback": [
      "\u001b[1;31m---------------------------------------------------------------------------\u001b[0m",
      "\u001b[1;31mZeroDivisionError\u001b[0m                         Traceback (most recent call last)",
      "Cell \u001b[1;32mIn[1], line 1\u001b[0m\n\u001b[1;32m----> 1\u001b[0m \u001b[38;5;28mprint\u001b[39m(\u001b[38;5;241;43m5\u001b[39;49m\u001b[38;5;241;43m/\u001b[39;49m\u001b[38;5;241;43m0\u001b[39;49m)\n",
      "\u001b[1;31mZeroDivisionError\u001b[0m: division by zero"
     ]
    }
   ],
   "source": [
    "print(5/0)"
   ]
  },
  {
   "cell_type": "code",
   "execution_count": 2,
   "id": "8337dce5",
   "metadata": {},
   "outputs": [
    {
     "name": "stdout",
     "output_type": "stream",
     "text": [
      "you cannot dvide by zero\n"
     ]
    }
   ],
   "source": [
    "try:\n",
    "    print(5/0)\n",
    "except ZeroDivisionError:\n",
    "    print(\"you cannot dvide by zero\")"
   ]
  },
  {
   "cell_type": "code",
   "execution_count": 7,
   "id": "dcc0926d",
   "metadata": {},
   "outputs": [
    {
     "name": "stdout",
     "output_type": "stream",
     "text": [
      "Give me 2 numbers  and i'll divide it for you\n",
      "Enter q to quite\n",
      "You cannot devide by zero\n"
     ]
    }
   ],
   "source": [
    "print(\"Give me 2 numbers  and i'll divide it for you\")\n",
    "print(\"Enter q to quite\")\n",
    "\n",
    "while True:\n",
    "    first_number = input(\"Enter the first number\")\n",
    "    if first_number.lower() == 'q':\n",
    "        break\n",
    "    second_number = input(\"Enter the second number\")\n",
    "\n",
    "    try:\n",
    "        result = int(first_number)/int(second_number)\n",
    "    except ZeroDivisionError:\n",
    "        print(\"You cannot devide by zero\")\n",
    "    else:\n",
    "       print(int(result))\n",
    "    "
   ]
  },
  {
   "cell_type": "code",
   "execution_count": 8,
   "id": "849f3aef",
   "metadata": {},
   "outputs": [
    {
     "ename": "FileNotFoundError",
     "evalue": "[Errno 2] No such file or directory: 'alice.txt'",
     "output_type": "error",
     "traceback": [
      "\u001b[1;31m---------------------------------------------------------------------------\u001b[0m",
      "\u001b[1;31mFileNotFoundError\u001b[0m                         Traceback (most recent call last)",
      "Cell \u001b[1;32mIn[8], line 3\u001b[0m\n\u001b[0;32m      1\u001b[0m file_name \u001b[38;5;241m=\u001b[39m \u001b[38;5;124m\"\u001b[39m\u001b[38;5;124malice.txt\u001b[39m\u001b[38;5;124m\"\u001b[39m\n\u001b[1;32m----> 3\u001b[0m \u001b[38;5;28;01mwith\u001b[39;00m \u001b[38;5;28;43mopen\u001b[39;49m\u001b[43m(\u001b[49m\u001b[38;5;124;43m'\u001b[39;49m\u001b[38;5;124;43malice.txt\u001b[39;49m\u001b[38;5;124;43m'\u001b[39;49m\u001b[43m)\u001b[49m \u001b[38;5;28;01mas\u001b[39;00m file_object:\n\u001b[0;32m      4\u001b[0m     content \u001b[38;5;241m=\u001b[39m file_object\u001b[38;5;241m.\u001b[39mread()\n",
      "File \u001b[1;32mc:\\Users\\shubh\\AppData\\Local\\Programs\\Python\\Python311\\Lib\\site-packages\\IPython\\core\\interactiveshell.py:324\u001b[0m, in \u001b[0;36m_modified_open\u001b[1;34m(file, *args, **kwargs)\u001b[0m\n\u001b[0;32m    317\u001b[0m \u001b[38;5;28;01mif\u001b[39;00m file \u001b[38;5;129;01min\u001b[39;00m {\u001b[38;5;241m0\u001b[39m, \u001b[38;5;241m1\u001b[39m, \u001b[38;5;241m2\u001b[39m}:\n\u001b[0;32m    318\u001b[0m     \u001b[38;5;28;01mraise\u001b[39;00m \u001b[38;5;167;01mValueError\u001b[39;00m(\n\u001b[0;32m    319\u001b[0m         \u001b[38;5;124mf\u001b[39m\u001b[38;5;124m\"\u001b[39m\u001b[38;5;124mIPython won\u001b[39m\u001b[38;5;124m'\u001b[39m\u001b[38;5;124mt let you open fd=\u001b[39m\u001b[38;5;132;01m{\u001b[39;00mfile\u001b[38;5;132;01m}\u001b[39;00m\u001b[38;5;124m by default \u001b[39m\u001b[38;5;124m\"\u001b[39m\n\u001b[0;32m    320\u001b[0m         \u001b[38;5;124m\"\u001b[39m\u001b[38;5;124mas it is likely to crash IPython. If you know what you are doing, \u001b[39m\u001b[38;5;124m\"\u001b[39m\n\u001b[0;32m    321\u001b[0m         \u001b[38;5;124m\"\u001b[39m\u001b[38;5;124myou can use builtins\u001b[39m\u001b[38;5;124m'\u001b[39m\u001b[38;5;124m open.\u001b[39m\u001b[38;5;124m\"\u001b[39m\n\u001b[0;32m    322\u001b[0m     )\n\u001b[1;32m--> 324\u001b[0m \u001b[38;5;28;01mreturn\u001b[39;00m \u001b[43mio_open\u001b[49m\u001b[43m(\u001b[49m\u001b[43mfile\u001b[49m\u001b[43m,\u001b[49m\u001b[43m \u001b[49m\u001b[38;5;241;43m*\u001b[39;49m\u001b[43margs\u001b[49m\u001b[43m,\u001b[49m\u001b[43m \u001b[49m\u001b[38;5;241;43m*\u001b[39;49m\u001b[38;5;241;43m*\u001b[39;49m\u001b[43mkwargs\u001b[49m\u001b[43m)\u001b[49m\n",
      "\u001b[1;31mFileNotFoundError\u001b[0m: [Errno 2] No such file or directory: 'alice.txt'"
     ]
    }
   ],
   "source": [
    "file_name = \"alice.txt\"\n",
    "\n",
    "with open('alice.txt') as file_object:\n",
    "    content = file_object.read()\n"
   ]
  },
  {
   "cell_type": "code",
   "execution_count": 10,
   "id": "9445ead4",
   "metadata": {},
   "outputs": [
    {
     "name": "stdout",
     "output_type": "stream",
     "text": [
      "sorry the alice.txt does not exist\n"
     ]
    }
   ],
   "source": [
    "'''catching the error'''\n",
    "\n",
    "file_name = \"alice.txt\"\n",
    "\n",
    "try:\n",
    "    with open('alice.txt') as file_object:\n",
    "        content = file_object.read()\n",
    "\n",
    "except FileNotFoundError:\n",
    "    msg = 'sorry the ' + file_name + ' does not exist'\n",
    "    print(msg)\n"
   ]
  },
  {
   "cell_type": "code",
   "execution_count": 14,
   "id": "335e316c",
   "metadata": {},
   "outputs": [
    {
     "name": "stdout",
     "output_type": "stream",
     "text": [
      "The file alice_in_wonderland.txt has about 26470 words\n"
     ]
    }
   ],
   "source": [
    "file_name = 'alice_in_wonderland.txt'\n",
    "\n",
    "try:\n",
    "    with open('alice_in_wonderland.txt') as file_object:\n",
    "        content = file_object.read()\n",
    "\n",
    "except FileNotFoundError:\n",
    "    msg = 'sorry the ' + file_name + ' does not exist'\n",
    "    print(msg)\n",
    "\n",
    "else:\n",
    "    # counting the approximate no of word in the file\n",
    "    word = content.split()\n",
    "    num_words = len(word)\n",
    "    print(\"The file \" + file_name + \" has about \" +\n",
    "          str(num_words) + ' words')\n",
    "\n"
   ]
  },
  {
   "cell_type": "code",
   "execution_count": 16,
   "id": "c5f9c937",
   "metadata": {},
   "outputs": [],
   "source": [
    "import json\n",
    "numbers = [2,3,4,5,6,7,8,9,10,11,12,13]\n",
    "\n",
    "file_name = 'number.json'\n",
    "with open('file_name','w') as f_object:\n",
    "    json.dump(numbers,f_object)"
   ]
  },
  {
   "cell_type": "code",
   "execution_count": 17,
   "id": "d8951cef",
   "metadata": {},
   "outputs": [
    {
     "name": "stdout",
     "output_type": "stream",
     "text": [
      "[2, 3, 4, 5, 6, 7, 8, 9, 10, 11, 12, 13]\n"
     ]
    }
   ],
   "source": [
    "import json\n",
    "\n",
    "file_name = 'number.json'\n",
    "with open('file_name') as f_object:\n",
    "    number = json.load(f_object)\n",
    "\n",
    "print(number)"
   ]
  },
  {
   "cell_type": "code",
   "execution_count": 22,
   "id": "2481290a",
   "metadata": {},
   "outputs": [
    {
     "name": "stdout",
     "output_type": "stream",
     "text": [
      "We'll all remember you cheif Eren Jeager when you come back\n"
     ]
    }
   ],
   "source": [
    "'''storing username in json file'''\n",
    "\n",
    "import json\n",
    "\n",
    "username = input(\"enter your name\")\n",
    "\n",
    "file_name = 'user_data.json'\n",
    "with open(file_name,'a') as file_object:\n",
    "    json.dump(username,file_object)\n",
    "    print(\"We'll all remember you cheif \" + username + \" when you come back\")"
   ]
  },
  {
   "cell_type": "code",
   "execution_count": 23,
   "id": "dab9cad4",
   "metadata": {},
   "outputs": [
    {
     "name": "stdout",
     "output_type": "stream",
     "text": [
      "wellcome back Eren Jeager\n"
     ]
    }
   ],
   "source": [
    "import json\n",
    "\n",
    "with open(file_name) as file_object:\n",
    "    username = json.load(file_object)\n",
    "    print(\"wellcome back \" + username)"
   ]
  },
  {
   "cell_type": "code",
   "execution_count": 12,
   "id": "402d2731",
   "metadata": {},
   "outputs": [
    {
     "name": "stdout",
     "output_type": "stream",
     "text": [
      "i in 1st loop 0\n",
      "i in while loop2\n",
      "i in while loop3\n",
      "i in while loop4\n",
      "i in while loop5\n",
      "i in 1st loop 1\n",
      "i in while loop3\n",
      "i in 1st loop 2\n",
      "i in 1st loop 3\n",
      "i in 1st loop 4\n",
      "i in 1st loop 5\n",
      "i in 1st loop 6\n",
      "i in 1st loop 7\n",
      "i in 1st loop 8\n",
      "i in 1st loop 9\n",
      "[0, 1, 2]\n"
     ]
    }
   ],
   "source": [
    "from typing import List\n",
    "class Solution:\n",
    "    def removeDuplicates(self, nums: List[int]) -> int:\n",
    "        self.nums = nums\n",
    "        for i in range(0,len(nums)):\n",
    "            j = i+1\n",
    "            print(\"i in 1st loop \" + str(i))\n",
    "            while j < len(nums):\n",
    "                if nums[i] == nums[j]:\n",
    "                    nums.pop(j)\n",
    "                    j += 1\n",
    "                else:\n",
    "                    i = j\n",
    "                    print(\"i in while loop\"+str(i))\n",
    "                    break\n",
    "\n",
    "sol = Solution()\n",
    "nums =  [0,0,1,1,1,2,2,3,3,4]\n",
    "sol.removeDuplicates(nums)\n",
    "print(nums)"
   ]
  },
  {
   "cell_type": "code",
   "execution_count": 4,
   "id": "a17761e9",
   "metadata": {},
   "outputs": [
    {
     "name": "stdout",
     "output_type": "stream",
     "text": [
      "0\n",
      "1\n",
      "1\n",
      "2\n",
      "3\n",
      "5\n",
      "8\n",
      "13\n",
      "21\n",
      "34\n"
     ]
    }
   ],
   "source": [
    "# Generator function\n",
    "def text_fib(n):\n",
    "    a,b = 0,1\n",
    "    for i in range(n):\n",
    "        yield a\n",
    "        a,b = b, a+b\n",
    "        \n",
    "for i in text_fib(10):\n",
    "    print(i)\n",
    "    "
   ]
  },
  {
   "cell_type": "code",
   "execution_count": 7,
   "id": "9de4b16a",
   "metadata": {},
   "outputs": [
    {
     "name": "stdout",
     "output_type": "stream",
     "text": [
      "0\n",
      "1\n",
      "1\n",
      "2\n",
      "3\n",
      "5\n",
      "8\n",
      "13\n",
      "21\n",
      "34\n"
     ]
    }
   ],
   "source": [
    "def text_fib1():\n",
    "    a,b = 0,1\n",
    "    while True:\n",
    "        yield a\n",
    "        a, b = b, a+b\n",
    "\n",
    "fib = text_fib1()\n",
    "\n",
    "for i in range(10):\n",
    "    print(next(fib))"
   ]
  },
  {
   "cell_type": "code",
   "execution_count": null,
   "id": "835c1fc3",
   "metadata": {},
   "outputs": [],
   "source": []
  }
 ],
 "metadata": {
  "kernelspec": {
   "display_name": "Python 3 (ipykernel)",
   "language": "python",
   "name": "python3"
  },
  "language_info": {
   "codemirror_mode": {
    "name": "ipython",
    "version": 3
   },
   "file_extension": ".py",
   "mimetype": "text/x-python",
   "name": "python",
   "nbconvert_exporter": "python",
   "pygments_lexer": "ipython3",
   "version": "3.11.3"
  }
 },
 "nbformat": 4,
 "nbformat_minor": 5
}
