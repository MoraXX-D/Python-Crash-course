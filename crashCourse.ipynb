{
 "cells": [
  {
   "cell_type": "code",
   "execution_count": 2,
   "id": "f0dfb070-5caa-43e3-8c33-07f833e9fa56",
   "metadata": {},
   "outputs": [
    {
     "name": "stdout",
     "output_type": "stream",
     "text": [
      "[1, 1, 2, 3, 5, 8, 13, 21]\n",
      "{'n': 'int', 'res': 'list', 'return': 'list'}\n"
     ]
    }
   ],
   "source": [
    "# program to print Fibonacci series using function annotations  \n",
    "def fibonacci(n:'int', res:'list'=[])-> 'list':  \n",
    "    if n == 0:  \n",
    "        return res  \n",
    "    else:  \n",
    "        if len(res)< 2:  \n",
    "            res.append(1)  \n",
    "            fibonacci(n-1, res)  \n",
    "        else:  \n",
    "            last = res[-1]  \n",
    "            second_last = res[-2]  \n",
    "            res.append(last + second_last)  \n",
    "            fibonacci(n-1, res)  \n",
    "        return res  \n",
    "print(fibonacci(8))  \n",
    "print(fibonacci.__annotations__) "
   ]
  },
  {
   "cell_type": "code",
   "execution_count": 4,
   "id": "717be071-25aa-4a9e-b43a-d40ddbee0955",
   "metadata": {},
   "outputs": [
    {
     "ename": "SyntaxError",
     "evalue": "invalid syntax (1263469189.py, line 1)",
     "output_type": "error",
     "traceback": [
      "\u001b[1;36m  Cell \u001b[1;32mIn[4], line 1\u001b[1;36m\u001b[0m\n\u001b[1;33m    lamda result x,y:range(x,y)\u001b[0m\n\u001b[1;37m          ^\u001b[0m\n\u001b[1;31mSyntaxError\u001b[0m\u001b[1;31m:\u001b[0m invalid syntax\n"
     ]
    }
   ],
   "source": [
    "lamda result x,y:range(x,y)\n",
    "result\n"
   ]
  },
  {
   "cell_type": "code",
   "execution_count": 1,
   "id": "3274a82e-f36f-4a7d-b43a-31ef9c12f449",
   "metadata": {},
   "outputs": [
    {
     "name": "stdout",
     "output_type": "stream",
     "text": [
      "('cheese', 'pizza sauce', 'letteuce', 'tomato')\n"
     ]
    }
   ],
   "source": [
    "\n",
    "def Sandwiches(*items):\n",
    "    print(items);\n",
    "\n",
    "Sandwiches('cheese','pizza sauce','letteuce','tomato')"
   ]
  },
  {
   "cell_type": "code",
   "execution_count": 2,
   "id": "b9dd96b6",
   "metadata": {},
   "outputs": [
    {
     "name": "stdout",
     "output_type": "stream",
     "text": [
      "('egg', 'bacon')\n"
     ]
    }
   ],
   "source": [
    "Sandwiches('egg','bacon')"
   ]
  },
  {
   "cell_type": "code",
   "execution_count": 3,
   "id": "aa9707b2",
   "metadata": {},
   "outputs": [
    {
     "data": {
      "text/plain": [
       "{'first_name': 'shubham',\n",
       " 'last_name': 'kumar',\n",
       " 'location': 'jaipur',\n",
       " 'Course': 'B-tech',\n",
       " 'Branch': 'Ai & Ds'}"
      ]
     },
     "execution_count": 3,
     "metadata": {},
     "output_type": "execute_result"
    }
   ],
   "source": [
    "def build_profile(first_name,last_name,**others):\n",
    "    '''building a dictionary containing info about user'''\n",
    "    profile={}\n",
    "    profile['first_name'] = first_name\n",
    "    profile['last_name'] = last_name\n",
    "\n",
    "    for keys, values in others.items():\n",
    "        profile[keys] = values\n",
    "    \n",
    "    return profile\n",
    "build_profile('shubham','kumar',location = 'jaipur',Course = 'B-tech', Branch = 'Ai & Ds')\n"
   ]
  },
  {
   "cell_type": "code",
   "execution_count": 4,
   "id": "082a6c2c",
   "metadata": {},
   "outputs": [
    {
     "name": "stdout",
     "output_type": "stream",
     "text": [
      "\n",
      "Making a 16inch pizza with the following toppings\n",
      "-pepperoni\n",
      "-mushroom\n",
      "-mozerrela\n"
     ]
    }
   ],
   "source": [
    "import pizza\n",
    "pizza.make_pizza(16,'pepperoni','mushroom','mozerrela')\n"
   ]
  },
  {
   "cell_type": "code",
   "execution_count": 5,
   "id": "660d98de",
   "metadata": {},
   "outputs": [],
   "source": [
    "class Dogs():\n",
    "    '''A simple attempt to model a dog'''\n",
    "    def __init__(self,name:str,age:int) -> None:\n",
    "        self.name = name\n",
    "        self.age = age\n",
    "\n",
    "    def sit(self):\n",
    "\n",
    "        '''simulate dog sitting in response to a command'''\n",
    "        print(self.name.title() + 'is sitting')\n",
    "\n",
    "    def roll_over(self):\n",
    "        '''simulate rolling over a command'''\n",
    "        print(self.name.title() + \"rolled over\")\n",
    "    "
   ]
  },
  {
   "cell_type": "code",
   "execution_count": 7,
   "id": "7e41ccca",
   "metadata": {},
   "outputs": [
    {
     "name": "stdout",
     "output_type": "stream",
     "text": [
      "my dog name is Willie\n",
      "my dog age is 6yrs old\n"
     ]
    }
   ],
   "source": [
    "my_dog = Dogs('willie',6)\n",
    "print('my dog name is ' + my_dog.name.title())\n",
    "print('my dog age is ' + str(my_dog.age) + 'yrs old')\n"
   ]
  },
  {
   "cell_type": "code",
   "execution_count": 8,
   "id": "956c384b",
   "metadata": {},
   "outputs": [
    {
     "name": "stdout",
     "output_type": "stream",
     "text": [
      "Willieis sitting\n",
      "Willierolled over\n"
     ]
    }
   ],
   "source": [
    "my_dog.sit()\n",
    "my_dog.roll_over()"
   ]
  },
  {
   "cell_type": "code",
   "execution_count": 20,
   "id": "bc4701ee",
   "metadata": {},
   "outputs": [
    {
     "name": "stdout",
     "output_type": "stream",
     "text": [
      "2016 Audi A4\n",
      "This car has 0 mileage on it\n"
     ]
    }
   ],
   "source": [
    "class Car():\n",
    "    def __init__(self,make,model,year) -> None:\n",
    "        '''initialize attribute to describe a car'''\n",
    "        self.make = make\n",
    "        self.model = model\n",
    "        self.year = year\n",
    "        self.ododmeter_reading = 0\n",
    "\n",
    "    def get_description_name(self):\n",
    "        '''return a nearly formatted descriptive name'''\n",
    "        long_name = str(self.year) + ' ' + self.make + ' ' + self.model\n",
    "        return long_name.title()\n",
    "    \n",
    "    def read_odometer(self):\n",
    "        '''print a message shoing car mileage'''\n",
    "        print(\"This car has \" + str(self.ododmeter_reading) + \" mileage on it\")\n",
    "\n",
    "    def update_odometer_reading(self,mileage):\n",
    "        '''this function update odometer reading using a method and preventing roll back'''\n",
    "        if mileage > self.ododmeter_reading:\n",
    "            self.ododmeter_reading = mileage\n",
    "        else:\n",
    "            print(\"You cannot roll back the reading.\")\n",
    "    \n",
    "my_new_car = Car('audi','a4',2016)\n",
    "print(my_new_car.get_description_name())\n",
    "my_new_car.read_odometer()"
   ]
  },
  {
   "cell_type": "code",
   "execution_count": 17,
   "id": "03b93871",
   "metadata": {},
   "outputs": [
    {
     "name": "stdout",
     "output_type": "stream",
     "text": [
      "This car has 23 mileage on it\n"
     ]
    }
   ],
   "source": [
    "my_new_car.ododmeter_reading = 23\n",
    "my_new_car.read_odometer()"
   ]
  },
  {
   "cell_type": "code",
   "execution_count": 22,
   "id": "55e1ad88",
   "metadata": {},
   "outputs": [
    {
     "name": "stdout",
     "output_type": "stream",
     "text": [
      "You cannot roll back the reading.\n",
      "This car has 45 mileage on it\n"
     ]
    }
   ],
   "source": [
    "my_new_car.update_odometer_reading(5)\n",
    "my_new_car.read_odometer()"
   ]
  },
  {
   "cell_type": "code",
   "execution_count": 21,
   "id": "f9d0e0c0",
   "metadata": {},
   "outputs": [
    {
     "name": "stdout",
     "output_type": "stream",
     "text": [
      "2016 Audi A4\n",
      "This car has 0 mileage on it\n",
      "This car need gasoline to run\n",
      "2016 Tesla Model S\n",
      "This car has a 70-kwh battery\n",
      "70\n",
      "It is an electic car hence it doesn't need gas\n",
      "This car can fit 4 no of people\n",
      "This car has a trunk capacity of 20 ltr\n"
     ]
    }
   ],
   "source": [
    "class Car():\n",
    "    def __init__(self,make,model,year) -> None:\n",
    "        '''initialize attribute to describe a car'''\n",
    "        self.make = make\n",
    "        self.model = model\n",
    "        self.year = year\n",
    "        self.ododmeter_reading = 0\n",
    "\n",
    "    def get_description_name(self):\n",
    "        '''return a nearly formatted descriptive name'''\n",
    "        long_name = str(self.year) + ' ' + self.make + ' ' + self.model\n",
    "        return long_name.title()\n",
    "    \n",
    "    def read_odometer(self):\n",
    "        '''print a message shoing car mileage'''\n",
    "        print(\"This car has \" + str(self.ododmeter_reading) + \" mileage on it\")\n",
    "\n",
    "    def update_odometer_reading(self,mileage):\n",
    "        '''this function update odometer reading using a method and preventing roll back'''\n",
    "        if mileage > self.ododmeter_reading:\n",
    "            self.ododmeter_reading = mileage\n",
    "        else:\n",
    "            print(\"You cannot roll back the reading.\")\n",
    "\n",
    "    def fill_gas_tank(self):\n",
    "        '''This method show that it need gas or not'''\n",
    "        print(\"This car need gasoline to run\")\n",
    "\n",
    "class Capacity():\n",
    "    def __init__(self):\n",
    "        self.capacity = 4\n",
    "        self.trunk_capacity = 20\n",
    "\n",
    "    def no_of_people(self):\n",
    "        '''creating new class to show car capacity as doing so in the same class\n",
    "        can make it unreadable'''\n",
    "        print(\"This car can fit \" + str(self.capacity) + \" no of people\")\n",
    "\n",
    "    def trunk(self):\n",
    "        '''trunk capacity of the car'''\n",
    "        print('This car has a trunk capacity of ' + str(self.trunk_capacity) + ' ltr')\n",
    "\n",
    "class ElectricCar(Car):\n",
    "    '''represent aspect of car, specific to EVs'''\n",
    "   \n",
    "    def __init__(self,make,model,year):\n",
    "        super().__init__(make,model,year)\n",
    "        self.battery_size = 70\n",
    "        self.capacity = Capacity()\n",
    "\n",
    "    def describe_battery(self):\n",
    "        '''describing battery'''\n",
    "        print(\"This car has a \" + str(self.battery_size) + \"-kwh battery\")\n",
    "\n",
    "    def fill_gas_tank(self):\n",
    "        '''Overridding the parent class method'''\n",
    "        print(\"It is an electic car hence it doesn't need gas\")\n",
    "    \n",
    "my_new_car = Car('audi','a4',2016)\n",
    "print(my_new_car.get_description_name())\n",
    "my_new_car.read_odometer()\n",
    "my_new_car.fill_gas_tank()\n",
    "my_tesla = ElectricCar('Tesla', 'Model S', 2016)\n",
    "print(my_tesla.get_description_name())\n",
    "my_tesla.describe_battery()\n",
    "print(my_tesla.battery_size)\n",
    "my_tesla.fill_gas_tank()\n",
    "my_tesla.capacity.no_of_people()\n",
    "my_tesla.capacity.trunk()"
   ]
  },
  {
   "cell_type": "code",
   "execution_count": 13,
   "id": "12b75159",
   "metadata": {},
   "outputs": [
    {
     "name": "stdout",
     "output_type": "stream",
     "text": [
      "<class '__main__.ElectricCar'>\n",
      "None\n"
     ]
    }
   ],
   "source": [
    "print(type(my_tesla))\n",
    "print(my_tesla.capacity.no_of_people())"
   ]
  },
  {
   "cell_type": "code",
   "execution_count": null,
   "id": "76ce3a8f",
   "metadata": {},
   "outputs": [],
   "source": []
  }
 ],
 "metadata": {
  "kernelspec": {
   "display_name": "Python 3 (ipykernel)",
   "language": "python",
   "name": "python3"
  },
  "language_info": {
   "codemirror_mode": {
    "name": "ipython",
    "version": 3
   },
   "file_extension": ".py",
   "mimetype": "text/x-python",
   "name": "python",
   "nbconvert_exporter": "python",
   "pygments_lexer": "ipython3",
   "version": "3.11.3"
  }
 },
 "nbformat": 4,
 "nbformat_minor": 5
}
