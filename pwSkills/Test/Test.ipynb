{
 "cells": [
  {
   "cell_type": "code",
   "execution_count": 13,
   "id": "af3a971f-699c-45ad-b847-786679b7debe",
   "metadata": {},
   "outputs": [
    {
     "name": "stdout",
     "output_type": "stream",
     "text": [
      "2\n"
     ]
    }
   ],
   "source": [
    "class Solution:\n",
    "    def removeElement(self, nums: List[int], val: int) -> int:\n",
    "        for num in nums:\n",
    "            if num == val:\n",
    "                nums.remove(num)\n",
    "        \n",
    "        return nums\n",
    "    \n",
    "sol = Solution()\n",
    "nums = [3,2,2,3]\n",
    "val = 3\n",
    "result = sol.removeElement(nums,val)\n",
    "print(len(result))"
   ]
  },
  {
   "cell_type": "code",
   "execution_count": 6,
   "id": "ce178cc1",
   "metadata": {},
   "outputs": [
    {
     "ename": "NameError",
     "evalue": "name 'List' is not defined",
     "output_type": "error",
     "traceback": [
      "\u001b[1;31m---------------------------------------------------------------------------\u001b[0m",
      "\u001b[1;31mNameError\u001b[0m                                 Traceback (most recent call last)",
      "Cell \u001b[1;32mIn[6], line 1\u001b[0m\n\u001b[1;32m----> 1\u001b[0m \u001b[38;5;28;01mdef\u001b[39;00m \u001b[38;5;21mmaxProfit\u001b[39m(\u001b[38;5;28mself\u001b[39m, prices: \u001b[43mList\u001b[49m[\u001b[38;5;28mint\u001b[39m]):\n\u001b[0;32m      2\u001b[0m    \u001b[38;5;28mself\u001b[39m\u001b[38;5;241m.\u001b[39mprices\u001b[38;5;241m=\u001b[39mprices\n\u001b[0;32m      3\u001b[0m    \u001b[38;5;28mmin\u001b[39m \u001b[38;5;241m=\u001b[39m \u001b[38;5;241m99999\u001b[39m\n",
      "\u001b[1;31mNameError\u001b[0m: name 'List' is not defined"
     ]
    }
   ],
   "source": [
    "def maxProfit(self, prices: List[int]):\n",
    "   self.prices=prices\n",
    "   min = 99999\n",
    "   max = 0\n",
    "   for price in prices:\n",
    "    if price < min:\n",
    "        min = price\n",
    "        \n",
    "   return min \n",
    "            \n",
    "    \n",
    "prices = [7,1,5,3,6,4]\n",
    "ans= maxProfit(prices=[])\n",
    "print(ans)"
   ]
  },
  {
   "cell_type": "code",
   "execution_count": null,
   "id": "7a91254f",
   "metadata": {},
   "outputs": [],
   "source": []
  }
 ],
 "metadata": {
  "kernelspec": {
   "display_name": "Python 3 (ipykernel)",
   "language": "python",
   "name": "python3"
  },
  "language_info": {
   "codemirror_mode": {
    "name": "ipython",
    "version": 3
   },
   "file_extension": ".py",
   "mimetype": "text/x-python",
   "name": "python",
   "nbconvert_exporter": "python",
   "pygments_lexer": "ipython3",
   "version": "3.11.3"
  }
 },
 "nbformat": 4,
 "nbformat_minor": 5
}
