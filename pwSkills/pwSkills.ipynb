{
 "cells": [
  {
   "cell_type": "markdown",
   "id": "e4c75586-add6-480b-aa29-6c0feb7c4d02",
   "metadata": {},
   "source": [
    "#"
   ]
  },
  {
   "cell_type": "markdown",
   "id": "c2fb52b1",
   "metadata": {},
   "source": [
    "# Static Method\n",
    "Use to call a method without creating an instance of the class "
   ]
  },
  {
   "cell_type": "code",
   "execution_count": 2,
   "id": "a1b0da48",
   "metadata": {},
   "outputs": [
    {
     "name": "stdout",
     "output_type": "stream",
     "text": [
      "Eren shubham@gmail.com 9900221100\n"
     ]
    }
   ],
   "source": [
    "class pwSkills :\n",
    "    \n",
    "    def student_skills(self, name,email_id,number):\n",
    "        print(name,email_id,number)\n",
    "\n",
    "pw = pwSkills()\n",
    "pw.student_skills(\"Eren\",\"shubham@gmail.com\",9900221100)"
   ]
  },
  {
   "cell_type": "code",
   "execution_count": 6,
   "id": "8618004b",
   "metadata": {},
   "outputs": [
    {
     "name": "stdout",
     "output_type": "stream",
     "text": [
      "['shudh', 'krish']\n"
     ]
    }
   ],
   "source": [
    "class pwSkills1 :\n",
    "    \n",
    "    def student_skills(self, name,email_id,number):\n",
    "        print(name,email_id,number)\n",
    "    \n",
    "    @staticmethod\n",
    "    def mentor_class(list_mentor):\n",
    "        print(list_mentor)\n",
    "        \n",
    "pwSkills1.mentor_class([\"shudh\",\"krish\"])"
   ]
  },
  {
   "cell_type": "code",
   "execution_count": 12,
   "id": "db6aa3b4",
   "metadata": {},
   "outputs": [
    {
     "name": "stdout",
     "output_type": "stream",
     "text": [
      "['sudh@gmail.com']\n",
      "['sudh', 'krish']\n",
      "['sudh@gmail.com']\n",
      "['sudh']\n"
     ]
    }
   ],
   "source": [
    "class pwSkills2 :\n",
    "    \"\"\" Using static method inside a class method as well as inside a static method \n",
    "    use for optimizing memory \"\"\"\n",
    "    \n",
    "    def student_skills(self, name,email_id,number):\n",
    "        print(name,email_id,number)\n",
    "    \n",
    "    @staticmethod \n",
    "    def mentor_mail_id(mail_id_mentor):\n",
    "        print(mail_id_mentor)\n",
    "    \n",
    "    @staticmethod\n",
    "    def mentor_class(list_mentor):\n",
    "        pwSkills2.mentor_mail_id([\"sudh@gmail.com\"])\n",
    "        print(list_mentor)\n",
    "        \n",
    "    @classmethod\n",
    "    def class_name(cls):\n",
    "        cls.mentor_class([\"sudh\",\"krish\"])\n",
    "        \n",
    "pwSkills2.class_name()\n",
    "pwSkills2.mentor_class([\"sudh\"])"
   ]
  },
  {
   "cell_type": "markdown",
   "id": "b956c2b0",
   "metadata": {},
   "source": [
    "# Special, magic, dunder function"
   ]
  },
  {
   "cell_type": "code",
   "execution_count": 14,
   "id": "6293db4e",
   "metadata": {},
   "outputs": [
    {
     "data": {
      "text/plain": [
       "['__abs__',\n",
       " '__add__',\n",
       " '__and__',\n",
       " '__bool__',\n",
       " '__ceil__',\n",
       " '__class__',\n",
       " '__delattr__',\n",
       " '__dir__',\n",
       " '__divmod__',\n",
       " '__doc__',\n",
       " '__eq__',\n",
       " '__float__',\n",
       " '__floor__',\n",
       " '__floordiv__',\n",
       " '__format__',\n",
       " '__ge__',\n",
       " '__getattribute__',\n",
       " '__getnewargs__',\n",
       " '__getstate__',\n",
       " '__gt__',\n",
       " '__hash__',\n",
       " '__index__',\n",
       " '__init__',\n",
       " '__init_subclass__',\n",
       " '__int__',\n",
       " '__invert__',\n",
       " '__le__',\n",
       " '__lshift__',\n",
       " '__lt__',\n",
       " '__mod__',\n",
       " '__mul__',\n",
       " '__ne__',\n",
       " '__neg__',\n",
       " '__new__',\n",
       " '__or__',\n",
       " '__pos__',\n",
       " '__pow__',\n",
       " '__radd__',\n",
       " '__rand__',\n",
       " '__rdivmod__',\n",
       " '__reduce__',\n",
       " '__reduce_ex__',\n",
       " '__repr__',\n",
       " '__rfloordiv__',\n",
       " '__rlshift__',\n",
       " '__rmod__',\n",
       " '__rmul__',\n",
       " '__ror__',\n",
       " '__round__',\n",
       " '__rpow__',\n",
       " '__rrshift__',\n",
       " '__rshift__',\n",
       " '__rsub__',\n",
       " '__rtruediv__',\n",
       " '__rxor__',\n",
       " '__setattr__',\n",
       " '__sizeof__',\n",
       " '__str__',\n",
       " '__sub__',\n",
       " '__subclasshook__',\n",
       " '__truediv__',\n",
       " '__trunc__',\n",
       " '__xor__',\n",
       " 'as_integer_ratio',\n",
       " 'bit_count',\n",
       " 'bit_length',\n",
       " 'conjugate',\n",
       " 'denominator',\n",
       " 'from_bytes',\n",
       " 'imag',\n",
       " 'is_integer',\n",
       " 'numerator',\n",
       " 'real',\n",
       " 'to_bytes']"
      ]
     },
     "execution_count": 14,
     "metadata": {},
     "output_type": "execute_result"
    }
   ],
   "source": [
    "dir(int)"
   ]
  },
  {
   "cell_type": "code",
   "execution_count": 18,
   "id": "c702b4d4",
   "metadata": {},
   "outputs": [],
   "source": [
    "a = 100"
   ]
  },
  {
   "cell_type": "code",
   "execution_count": 19,
   "id": "e7865da0",
   "metadata": {},
   "outputs": [
    {
     "name": "stdout",
     "output_type": "stream",
     "text": [
      "105\n"
     ]
    }
   ],
   "source": [
    "a += 5\n",
    "print(a)"
   ]
  },
  {
   "cell_type": "code",
   "execution_count": 20,
   "id": "d1bb8162",
   "metadata": {},
   "outputs": [
    {
     "data": {
      "text/plain": [
       "115"
      ]
     },
     "execution_count": 20,
     "metadata": {},
     "output_type": "execute_result"
    }
   ],
   "source": [
    "a.__add__(10)"
   ]
  },
  {
   "cell_type": "code",
   "execution_count": 31,
   "id": "ee41c401",
   "metadata": {},
   "outputs": [],
   "source": [
    "class pwskills :\n",
    "    def __new__(cls):\n",
    "        print(\"this is my new\")\n",
    "        \n",
    "    def __init__(self) -> None:\n",
    "        print(\"this is my init\")\n",
    "        self.number = 99223442"
   ]
  },
  {
   "cell_type": "code",
   "execution_count": 33,
   "id": "75ea6a8d",
   "metadata": {},
   "outputs": [
    {
     "name": "stdout",
     "output_type": "stream",
     "text": [
      "this is my new\n"
     ]
    }
   ],
   "source": [
    "pw = pwskills()\n",
    "# pw.number"
   ]
  },
  {
   "cell_type": "code",
   "execution_count": 34,
   "id": "18c096a2",
   "metadata": {},
   "outputs": [],
   "source": [
    "class pw1:\n",
    "    def __init__(self):\n",
    "        self.mobile_number = 9933256584\n",
    "    \n",
    "    def __str__(self) -> str:\n",
    "        return \"This is my magic function\""
   ]
  },
  {
   "cell_type": "code",
   "execution_count": 35,
   "id": "8acec539",
   "metadata": {},
   "outputs": [],
   "source": [
    "pws1 = pw1()"
   ]
  },
  {
   "cell_type": "code",
   "execution_count": 36,
   "id": "ba42931d",
   "metadata": {},
   "outputs": [
    {
     "data": {
      "text/plain": [
       "<__main__.pw1 at 0x218efeafcb0>"
      ]
     },
     "execution_count": 36,
     "metadata": {},
     "output_type": "execute_result"
    }
   ],
   "source": [
    "pws1"
   ]
  },
  {
   "cell_type": "code",
   "execution_count": 37,
   "id": "e0eb34a4",
   "metadata": {},
   "outputs": [
    {
     "name": "stdout",
     "output_type": "stream",
     "text": [
      "This is my magic function\n"
     ]
    }
   ],
   "source": [
    "print(pws1)"
   ]
  },
  {
   "cell_type": "markdown",
   "id": "269d9c0b",
   "metadata": {},
   "source": [
    "# Property decorator : getter,setter,delete"
   ]
  },
  {
   "cell_type": "code",
   "execution_count": 55,
   "id": "95bc7bc0",
   "metadata": {},
   "outputs": [],
   "source": [
    "# Single _ private double __ protected\n",
    "class Single:\n",
    "    def __init__(self,course_price,course_name):\n",
    "        self.__course_price = course_price #protected\n",
    "        self._course_name = course_name #private\n",
    "        \n",
    "\n",
    "    @property\n",
    "    def course_price_access(self):\n",
    "        return self.__course_price\n",
    "    \n",
    "    course_price_access.setter\n",
    "    def course_price_set(self,price):\n",
    "        if price < 3500:\n",
    "            pass\n",
    "        else:\n",
    "            self.__course_price = price"
   ]
  },
  {
   "cell_type": "code",
   "execution_count": 56,
   "id": "5297837a",
   "metadata": {},
   "outputs": [
    {
     "data": {
      "text/plain": [
       "3500"
      ]
     },
     "execution_count": 56,
     "metadata": {},
     "output_type": "execute_result"
    }
   ],
   "source": [
    "pw = Single(3500,\"data science\")\n",
    "pw._Single__course_price\n"
   ]
  },
  {
   "cell_type": "code",
   "execution_count": 57,
   "id": "c5759b9f",
   "metadata": {},
   "outputs": [
    {
     "data": {
      "text/plain": [
       "'data science'"
      ]
     },
     "execution_count": 57,
     "metadata": {},
     "output_type": "execute_result"
    }
   ],
   "source": [
    "pw._course_name"
   ]
  },
  {
   "cell_type": "code",
   "execution_count": 58,
   "id": "0da99fa4",
   "metadata": {},
   "outputs": [
    {
     "data": {
      "text/plain": [
       "3500"
      ]
     },
     "execution_count": 58,
     "metadata": {},
     "output_type": "execute_result"
    }
   ],
   "source": [
    "pw.course_price_access"
   ]
  },
  {
   "cell_type": "code",
   "execution_count": 59,
   "id": "ad2e496c",
   "metadata": {},
   "outputs": [],
   "source": [
    "pw.course_price_set(5000)"
   ]
  },
  {
   "cell_type": "code",
   "execution_count": 60,
   "id": "fcde5496",
   "metadata": {},
   "outputs": [
    {
     "data": {
      "text/plain": [
       "5000"
      ]
     },
     "execution_count": 60,
     "metadata": {},
     "output_type": "execute_result"
    }
   ],
   "source": [
    "pw.course_price_access"
   ]
  },
  {
   "cell_type": "code",
   "execution_count": 61,
   "id": "3d0b19bb",
   "metadata": {},
   "outputs": [
    {
     "data": {
      "text/plain": [
       "5000"
      ]
     },
     "execution_count": 61,
     "metadata": {},
     "output_type": "execute_result"
    }
   ],
   "source": [
    "pw._Single__course_price"
   ]
  },
  {
   "cell_type": "code",
   "execution_count": 2,
   "id": "0ff23250",
   "metadata": {},
   "outputs": [],
   "source": [
    "import logging"
   ]
  },
  {
   "cell_type": "code",
   "execution_count": 3,
   "id": "8a682f93",
   "metadata": {},
   "outputs": [],
   "source": [
    "logging.basicConfig(filename=\"test.log\",level = logging.INFO)\n"
   ]
  },
  {
   "cell_type": "code",
   "execution_count": 4,
   "id": "ebc1c725",
   "metadata": {},
   "outputs": [],
   "source": [
    "logging.info(\"log this line of execution\")"
   ]
  },
  {
   "cell_type": "markdown",
   "id": "a4abe338",
   "metadata": {},
   "source": [
    "* level pf loggin\n",
    "1. NOTSET\n",
    "2. DEBUG\n",
    "3. INFO\n",
    "4. WARNING\n",
    "5. ERROR\n",
    "6. CRITICAL"
   ]
  },
  {
   "cell_type": "code",
   "execution_count": 5,
   "id": "2ab5568d",
   "metadata": {},
   "outputs": [],
   "source": [
    "logging.warning(\"this is warning\")"
   ]
  },
  {
   "cell_type": "code",
   "execution_count": 6,
   "id": "b32f83e9",
   "metadata": {},
   "outputs": [],
   "source": [
    "logging.error(\"this is error\")"
   ]
  },
  {
   "cell_type": "code",
   "execution_count": 7,
   "id": "3b1e7b0b",
   "metadata": {},
   "outputs": [],
   "source": [
    "logging.critical(\"this is critical\")"
   ]
  },
  {
   "cell_type": "code",
   "execution_count": 25,
   "id": "50f4a321",
   "metadata": {},
   "outputs": [],
   "source": [
    "logging.shutdown()"
   ]
  },
  {
   "cell_type": "code",
   "execution_count": 26,
   "id": "2f16c2bb",
   "metadata": {},
   "outputs": [],
   "source": [
    "logging.basicConfig(filename= \"test1.log\", level= logging.DEBUG,format= '%(asctime)s - %(levelname)s - %(message)s')"
   ]
  },
  {
   "cell_type": "code",
   "execution_count": 27,
   "id": "9dd3fa31",
   "metadata": {},
   "outputs": [],
   "source": [
    "logging.info(\"this is info logging\")"
   ]
  },
  {
   "cell_type": "code",
   "execution_count": 28,
   "id": "85e3af90",
   "metadata": {},
   "outputs": [],
   "source": [
    "logging.error(\"this is error logging\")\n",
    "logging.critical(\"this is critical logging\")"
   ]
  },
  {
   "cell_type": "code",
   "execution_count": null,
   "id": "d497b634",
   "metadata": {},
   "outputs": [],
   "source": []
  },
  {
   "cell_type": "code",
   "execution_count": null,
   "id": "d0a6ad46",
   "metadata": {},
   "outputs": [],
   "source": []
  }
 ],
 "metadata": {
  "kernelspec": {
   "display_name": "Python 3",
   "language": "python",
   "name": "python3"
  },
  "language_info": {
   "codemirror_mode": {
    "name": "ipython",
    "version": 3
   },
   "file_extension": ".py",
   "mimetype": "text/x-python",
   "name": "python",
   "nbconvert_exporter": "python",
   "pygments_lexer": "ipython3",
   "version": "3.13.0"
  }
 },
 "nbformat": 4,
 "nbformat_minor": 5
}
