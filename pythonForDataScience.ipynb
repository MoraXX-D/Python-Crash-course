{
 "cells": [
  {
   "cell_type": "code",
   "execution_count": 2,
   "id": "f0dfb070-5caa-43e3-8c33-07f833e9fa56",
   "metadata": {},
   "outputs": [
    {
     "name": "stdout",
     "output_type": "stream",
     "text": [
      "[1, 1, 2, 3, 5, 8, 13, 21]\n",
      "{'n': 'int', 'res': 'list', 'return': 'list'}\n"
     ]
    }
   ],
   "source": [
    "# program to print Fibonacci series using function annotations  \n",
    "def fibonacci(n:'int', res:'list'=[])-> 'list':  \n",
    "    if n == 0:  \n",
    "        return res  \n",
    "    else:  \n",
    "        if len(res)< 2:  \n",
    "            res.append(1)  \n",
    "            fibonacci(n-1, res)  \n",
    "        else:  \n",
    "            last = res[-1]  \n",
    "            second_last = res[-2]  \n",
    "            res.append(last + second_last)  \n",
    "            fibonacci(n-1, res)  \n",
    "        return res  \n",
    "print(fibonacci(8))  \n",
    "print(fibonacci.__annotations__) "
   ]
  },
  {
   "cell_type": "code",
   "execution_count": 4,
   "id": "717be071-25aa-4a9e-b43a-d40ddbee0955",
   "metadata": {},
   "outputs": [
    {
     "ename": "SyntaxError",
     "evalue": "invalid syntax (1263469189.py, line 1)",
     "output_type": "error",
     "traceback": [
      "\u001b[1;36m  Cell \u001b[1;32mIn[4], line 1\u001b[1;36m\u001b[0m\n\u001b[1;33m    lamda result x,y:range(x,y)\u001b[0m\n\u001b[1;37m          ^\u001b[0m\n\u001b[1;31mSyntaxError\u001b[0m\u001b[1;31m:\u001b[0m invalid syntax\n"
     ]
    }
   ],
   "source": [
    "lamda result x,y:range(x,y)\n",
    "result\n"
   ]
  },
  {
   "cell_type": "code",
   "execution_count": 5,
   "id": "3274a82e-f36f-4a7d-b43a-31ef9c12f449",
   "metadata": {},
   "outputs": [
    {
     "name": "stdout",
     "output_type": "stream",
     "text": [
      "('cheese', 'pizza sauce', 'letteuce', 'tomato')\n"
     ]
    }
   ],
   "source": [
    "\n",
    "def Sandwiches(*items):\n",
    "    print(items);\n",
    "\n",
    "Sandwiches('cheese','pizza sauce','letteuce','tomato')"
   ]
  },
  {
   "cell_type": "markdown",
   "id": "be8e45a8",
   "metadata": {},
   "source": [
    "# Class Method"
   ]
  },
  {
   "cell_type": "code",
   "execution_count": 25,
   "id": "b9dd96b6",
   "metadata": {},
   "outputs": [],
   "source": [
    "#Class method\n",
    "class Student:\n",
    "    \n",
    "    mobile_number = 9988776655 # class variable\n",
    "    \n",
    "    def __init__(self,name,email):\n",
    "        self.name =  name\n",
    "        self.email = email\n",
    "        \n",
    "    @classmethod\n",
    "    def setData(cls,name,email):  # cls is an another reference pointing to class\n",
    "        return cls(name,email)\n",
    "    \n",
    "    def students_details(self):\n",
    "        return self.name, self.email"
   ]
  },
  {
   "cell_type": "code",
   "execution_count": 20,
   "id": "fbb7e364",
   "metadata": {},
   "outputs": [
    {
     "data": {
      "text/plain": [
       "'shubham'"
      ]
     },
     "execution_count": 20,
     "metadata": {},
     "output_type": "execute_result"
    }
   ],
   "source": [
    "std = Student.setData('shubham','shubham@gmail.com')\n",
    "std.name"
   ]
  },
  {
   "cell_type": "code",
   "execution_count": 21,
   "id": "cf9f0807",
   "metadata": {},
   "outputs": [
    {
     "data": {
      "text/plain": [
       "'shubham.21dec03@gmail.com'"
      ]
     },
     "execution_count": 21,
     "metadata": {},
     "output_type": "execute_result"
    }
   ],
   "source": [
    "std.email"
   ]
  },
  {
   "cell_type": "code",
   "execution_count": 22,
   "id": "78031e16",
   "metadata": {},
   "outputs": [
    {
     "data": {
      "text/plain": [
       "('shubham', 'shubham.21dec03@gmail.com')"
      ]
     },
     "execution_count": 22,
     "metadata": {},
     "output_type": "execute_result"
    }
   ],
   "source": [
    "std.students_details()"
   ]
  },
  {
   "cell_type": "code",
   "execution_count": 26,
   "id": "79a1d9a9",
   "metadata": {},
   "outputs": [
    {
     "data": {
      "text/plain": [
       "9988776655"
      ]
     },
     "execution_count": 26,
     "metadata": {},
     "output_type": "execute_result"
    }
   ],
   "source": [
    "Student.mobile_number"
   ]
  },
  {
   "cell_type": "code",
   "execution_count": 44,
   "id": "eeb30638",
   "metadata": {},
   "outputs": [],
   "source": [
    "class Student1:\n",
    "    \n",
    "    mobile_number = 9988776655 # class variable\n",
    "    \n",
    "    def __init__(self,name,email):\n",
    "        self.name =  name\n",
    "        self.email = email\n",
    "        \n",
    "    @classmethod\n",
    "    def setData(cls,name,email):  # cls is an another reference pointing to class\n",
    "        return cls(name,email)\n",
    "    \n",
    "    @classmethod\n",
    "    def changeMobile_number(cls,mobile_no):\n",
    "        Student1.mobile_number = mobile_no\n",
    "    \n",
    "    def students_details(self):\n",
    "        print(self.name, self.email,Student1.mobile_number)"
   ]
  },
  {
   "cell_type": "code",
   "execution_count": 45,
   "id": "e5eaf5d0",
   "metadata": {},
   "outputs": [],
   "source": [
    "Student1.changeMobile_number(112233445566)"
   ]
  },
  {
   "cell_type": "code",
   "execution_count": 46,
   "id": "f6f921cc",
   "metadata": {},
   "outputs": [
    {
     "data": {
      "text/plain": [
       "112233445566"
      ]
     },
     "execution_count": 46,
     "metadata": {},
     "output_type": "execute_result"
    }
   ],
   "source": [
    "Student1.mobile_number"
   ]
  },
  {
   "cell_type": "code",
   "execution_count": 47,
   "id": "f5857fe3",
   "metadata": {},
   "outputs": [],
   "source": [
    "std1 = Student1.setData('rohan','rohan@gmail.com')"
   ]
  },
  {
   "cell_type": "code",
   "execution_count": 48,
   "id": "adc517d1",
   "metadata": {},
   "outputs": [
    {
     "name": "stdout",
     "output_type": "stream",
     "text": [
      "rohan rohan@gmail.com 112233445566\n"
     ]
    }
   ],
   "source": [
    "std1.students_details()"
   ]
  },
  {
   "cell_type": "code",
   "execution_count": 53,
   "id": "252bdbe1",
   "metadata": {},
   "outputs": [],
   "source": [
    "class Student2:\n",
    "    \n",
    "    mobile_number = 9988776655 # class variable\n",
    "    \n",
    "    def __init__(self,name,email):\n",
    "        self.name =  name\n",
    "        self.email = email\n",
    "        \n",
    "    @classmethod\n",
    "    def setData(cls,name,email):  # cls is an another reference pointing to class\n",
    "        return cls(name,email)\n",
    "    \n",
    "    @classmethod\n",
    "    def changeMobile_number(cls,mobile_no):\n",
    "        Student1.mobile_number = mobile_no\n",
    "    \n",
    "    def students_details(self):\n",
    "        print(self.name, self.email,Student2.mobile_number)"
   ]
  },
  {
   "cell_type": "code",
   "execution_count": 54,
   "id": "906c480c",
   "metadata": {},
   "outputs": [],
   "source": [
    "# how to involve outsider function inside of our class\n",
    "def course_details(cls,course_name):\n",
    "    print(\"course name is :\", course_name)"
   ]
  },
  {
   "cell_type": "code",
   "execution_count": 55,
   "id": "58176452",
   "metadata": {},
   "outputs": [],
   "source": [
    "Student2.course_details = classmethod(course_details)"
   ]
  },
  {
   "cell_type": "code",
   "execution_count": 56,
   "id": "a229f511",
   "metadata": {},
   "outputs": [
    {
     "name": "stdout",
     "output_type": "stream",
     "text": [
      "course name is : Data Science\n"
     ]
    }
   ],
   "source": [
    "Student2.course_details(\"Data Science\")"
   ]
  },
  {
   "cell_type": "code",
   "execution_count": 60,
   "id": "b7473900",
   "metadata": {},
   "outputs": [],
   "source": [
    "def mentor(cls,mentors: list) -> list:\n",
    "    print(mentors)"
   ]
  },
  {
   "cell_type": "code",
   "execution_count": 61,
   "id": "4bb6ff34",
   "metadata": {},
   "outputs": [],
   "source": [
    "Student2.mentor = classmethod(mentor)"
   ]
  },
  {
   "cell_type": "code",
   "execution_count": 62,
   "id": "ec07b4bf",
   "metadata": {},
   "outputs": [
    {
     "name": "stdout",
     "output_type": "stream",
     "text": [
      "['Saumya Mishra', 'Megha Rathore', 'Shikha Gupta', 'Ashok Kajla', 'Khushboo Garg']\n"
     ]
    }
   ],
   "source": [
    "Student2.mentor(['Saumya Mishra', 'Megha Rathore', 'Shikha Gupta', 'Ashok Kajla', 'Khushboo Garg'])"
   ]
  },
  {
   "cell_type": "code",
   "execution_count": 63,
   "id": "bb207b28",
   "metadata": {},
   "outputs": [],
   "source": [
    "class Student3:\n",
    "    \n",
    "    mobile_number = 9988776655 # class variable\n",
    "    \n",
    "    def __init__(self,name,email):\n",
    "        self.name =  name\n",
    "        self.email = email\n",
    "        \n",
    "    @classmethod\n",
    "    def setData(cls,name,email):  # cls is an another reference pointing to class\n",
    "        return cls(name,email)\n",
    "    \n",
    "    @classmethod\n",
    "    def changeMobile_number(cls,mobile_no):\n",
    "        Student1.mobile_number = mobile_no\n",
    "    \n",
    "    def students_details(self):\n",
    "        print(self.name, self.email,Student3.mobile_number)"
   ]
  },
  {
   "cell_type": "code",
   "execution_count": 65,
   "id": "36970668",
   "metadata": {},
   "outputs": [],
   "source": [
    "del Student3.changeMobile_number  # use to delete  a function"
   ]
  },
  {
   "cell_type": "code",
   "execution_count": 66,
   "id": "f348d66d",
   "metadata": {},
   "outputs": [
    {
     "ename": "AttributeError",
     "evalue": "type object 'Student3' has no attribute 'changeMobile_number'",
     "output_type": "error",
     "traceback": [
      "\u001b[1;31m---------------------------------------------------------------------------\u001b[0m",
      "\u001b[1;31mAttributeError\u001b[0m                            Traceback (most recent call last)",
      "Cell \u001b[1;32mIn[66], line 1\u001b[0m\n\u001b[1;32m----> 1\u001b[0m \u001b[43mStudent3\u001b[49m\u001b[38;5;241;43m.\u001b[39;49m\u001b[43mchangeMobile_number\u001b[49m(\u001b[38;5;241m1234\u001b[39m)\n",
      "\u001b[1;31mAttributeError\u001b[0m: type object 'Student3' has no attribute 'changeMobile_number'"
     ]
    }
   ],
   "source": [
    "Student3.changeMobile_number(1234)"
   ]
  },
  {
   "cell_type": "code",
   "execution_count": 67,
   "id": "c963737b",
   "metadata": {},
   "outputs": [],
   "source": [
    "delattr(Student3, \"students_details\")  # another way to delete a function using deleteAttribute function"
   ]
  },
  {
   "cell_type": "code",
   "execution_count": 68,
   "id": "a585a072",
   "metadata": {},
   "outputs": [
    {
     "ename": "AttributeError",
     "evalue": "type object 'Student3' has no attribute 'students_details'",
     "output_type": "error",
     "traceback": [
      "\u001b[1;31m---------------------------------------------------------------------------\u001b[0m",
      "\u001b[1;31mAttributeError\u001b[0m                            Traceback (most recent call last)",
      "Cell \u001b[1;32mIn[68], line 1\u001b[0m\n\u001b[1;32m----> 1\u001b[0m \u001b[43mStudent3\u001b[49m\u001b[38;5;241;43m.\u001b[39;49m\u001b[43mstudents_details\u001b[49m()\n",
      "\u001b[1;31mAttributeError\u001b[0m: type object 'Student3' has no attribute 'students_details'"
     ]
    }
   ],
   "source": [
    "Student3.students_details()"
   ]
  },
  {
   "cell_type": "code",
   "execution_count": 69,
   "id": "c57052f2",
   "metadata": {},
   "outputs": [],
   "source": [
    "delattr(Student3,\"setData\")"
   ]
  },
  {
   "cell_type": "code",
   "execution_count": 70,
   "id": "fd905b64",
   "metadata": {},
   "outputs": [],
   "source": [
    "delattr(Student3,\"mobile_number\")"
   ]
  },
  {
   "cell_type": "code",
   "execution_count": null,
   "id": "b4883381",
   "metadata": {},
   "outputs": [],
   "source": []
  }
 ],
 "metadata": {
  "kernelspec": {
   "display_name": "Python 3 (ipykernel)",
   "language": "python",
   "name": "python3"
  },
  "language_info": {
   "codemirror_mode": {
    "name": "ipython",
    "version": 3
   },
   "file_extension": ".py",
   "mimetype": "text/x-python",
   "name": "python",
   "nbconvert_exporter": "python",
   "pygments_lexer": "ipython3",
   "version": "3.11.3"
  }
 },
 "nbformat": 4,
 "nbformat_minor": 5
}
